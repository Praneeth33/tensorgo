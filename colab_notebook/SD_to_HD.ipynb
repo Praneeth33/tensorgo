{
  "nbformat": 4,
  "nbformat_minor": 0,
  "metadata": {
    "accelerator": "GPU",
    "colab": {
      "provenance": [],
      "gpuType": "T4"
    },
    "kernelspec": {
      "display_name": "Python 3",
      "name": "python3"
    },
    "language_info": {
      "name": "python"
    }
  },
  "cells": [
    {
      "cell_type": "markdown",
      "metadata": {
        "id": "Czlr7j7-t1Fw"
      },
      "source": [
        "# Installation\n"
      ]
    },
    {
      "cell_type": "markdown",
      "source": [
        "## Hugging face: https://huggingface.co/ai-forever/Real-ESRGAN"
      ],
      "metadata": {
        "id": "NbJt1lLokTJK"
      }
    },
    {
      "cell_type": "code",
      "metadata": {
        "id": "zXm_whLxt-2X",
        "colab": {
          "base_uri": "https://localhost:8080/"
        },
        "outputId": "34d2c681-340d-4dcc-b95e-c1e5a38dea6d"
      },
      "source": [
        "!pip install git+https://github.com/sberbank-ai/Real-ESRGAN.git"
      ],
      "execution_count": 34,
      "outputs": [
        {
          "output_type": "stream",
          "name": "stdout",
          "text": [
            "Collecting git+https://github.com/sberbank-ai/Real-ESRGAN.git\n",
            "  Cloning https://github.com/sberbank-ai/Real-ESRGAN.git to /tmp/pip-req-build-15g8i83v\n",
            "  Running command git clone --filter=blob:none --quiet https://github.com/sberbank-ai/Real-ESRGAN.git /tmp/pip-req-build-15g8i83v\n",
            "  Resolved https://github.com/sberbank-ai/Real-ESRGAN.git to commit 362a0316878f41dbdfbb23657b450c3353de5acf\n",
            "  Preparing metadata (setup.py) ... \u001b[?25l\u001b[?25hdone\n",
            "Requirement already satisfied: numpy in /usr/local/lib/python3.10/dist-packages (from RealESRGAN==1.0) (1.25.2)\n",
            "Requirement already satisfied: opencv-python in /usr/local/lib/python3.10/dist-packages (from RealESRGAN==1.0) (4.8.0.76)\n",
            "Requirement already satisfied: Pillow in /usr/local/lib/python3.10/dist-packages (from RealESRGAN==1.0) (9.4.0)\n",
            "Requirement already satisfied: torch>=1.7 in /usr/local/lib/python3.10/dist-packages (from RealESRGAN==1.0) (2.2.1+cu121)\n",
            "Requirement already satisfied: torchvision>=0.8.0 in /usr/local/lib/python3.10/dist-packages (from RealESRGAN==1.0) (0.17.1+cu121)\n",
            "Requirement already satisfied: tqdm in /usr/local/lib/python3.10/dist-packages (from RealESRGAN==1.0) (4.66.2)\n",
            "Requirement already satisfied: huggingface-hub in /usr/local/lib/python3.10/dist-packages (from RealESRGAN==1.0) (0.20.3)\n",
            "Requirement already satisfied: filelock in /usr/local/lib/python3.10/dist-packages (from torch>=1.7->RealESRGAN==1.0) (3.13.3)\n",
            "Requirement already satisfied: typing-extensions>=4.8.0 in /usr/local/lib/python3.10/dist-packages (from torch>=1.7->RealESRGAN==1.0) (4.10.0)\n",
            "Requirement already satisfied: sympy in /usr/local/lib/python3.10/dist-packages (from torch>=1.7->RealESRGAN==1.0) (1.12)\n",
            "Requirement already satisfied: networkx in /usr/local/lib/python3.10/dist-packages (from torch>=1.7->RealESRGAN==1.0) (3.2.1)\n",
            "Requirement already satisfied: jinja2 in /usr/local/lib/python3.10/dist-packages (from torch>=1.7->RealESRGAN==1.0) (3.1.3)\n",
            "Requirement already satisfied: fsspec in /usr/local/lib/python3.10/dist-packages (from torch>=1.7->RealESRGAN==1.0) (2023.6.0)\n",
            "Requirement already satisfied: nvidia-cuda-nvrtc-cu12==12.1.105 in /usr/local/lib/python3.10/dist-packages (from torch>=1.7->RealESRGAN==1.0) (12.1.105)\n",
            "Requirement already satisfied: nvidia-cuda-runtime-cu12==12.1.105 in /usr/local/lib/python3.10/dist-packages (from torch>=1.7->RealESRGAN==1.0) (12.1.105)\n",
            "Requirement already satisfied: nvidia-cuda-cupti-cu12==12.1.105 in /usr/local/lib/python3.10/dist-packages (from torch>=1.7->RealESRGAN==1.0) (12.1.105)\n",
            "Requirement already satisfied: nvidia-cudnn-cu12==8.9.2.26 in /usr/local/lib/python3.10/dist-packages (from torch>=1.7->RealESRGAN==1.0) (8.9.2.26)\n",
            "Requirement already satisfied: nvidia-cublas-cu12==12.1.3.1 in /usr/local/lib/python3.10/dist-packages (from torch>=1.7->RealESRGAN==1.0) (12.1.3.1)\n",
            "Requirement already satisfied: nvidia-cufft-cu12==11.0.2.54 in /usr/local/lib/python3.10/dist-packages (from torch>=1.7->RealESRGAN==1.0) (11.0.2.54)\n",
            "Requirement already satisfied: nvidia-curand-cu12==10.3.2.106 in /usr/local/lib/python3.10/dist-packages (from torch>=1.7->RealESRGAN==1.0) (10.3.2.106)\n",
            "Requirement already satisfied: nvidia-cusolver-cu12==11.4.5.107 in /usr/local/lib/python3.10/dist-packages (from torch>=1.7->RealESRGAN==1.0) (11.4.5.107)\n",
            "Requirement already satisfied: nvidia-cusparse-cu12==12.1.0.106 in /usr/local/lib/python3.10/dist-packages (from torch>=1.7->RealESRGAN==1.0) (12.1.0.106)\n",
            "Requirement already satisfied: nvidia-nccl-cu12==2.19.3 in /usr/local/lib/python3.10/dist-packages (from torch>=1.7->RealESRGAN==1.0) (2.19.3)\n",
            "Requirement already satisfied: nvidia-nvtx-cu12==12.1.105 in /usr/local/lib/python3.10/dist-packages (from torch>=1.7->RealESRGAN==1.0) (12.1.105)\n",
            "Requirement already satisfied: triton==2.2.0 in /usr/local/lib/python3.10/dist-packages (from torch>=1.7->RealESRGAN==1.0) (2.2.0)\n",
            "Requirement already satisfied: nvidia-nvjitlink-cu12 in /usr/local/lib/python3.10/dist-packages (from nvidia-cusolver-cu12==11.4.5.107->torch>=1.7->RealESRGAN==1.0) (12.4.99)\n",
            "Requirement already satisfied: requests in /usr/local/lib/python3.10/dist-packages (from huggingface-hub->RealESRGAN==1.0) (2.31.0)\n",
            "Requirement already satisfied: pyyaml>=5.1 in /usr/local/lib/python3.10/dist-packages (from huggingface-hub->RealESRGAN==1.0) (6.0.1)\n",
            "Requirement already satisfied: packaging>=20.9 in /usr/local/lib/python3.10/dist-packages (from huggingface-hub->RealESRGAN==1.0) (24.0)\n",
            "Requirement already satisfied: MarkupSafe>=2.0 in /usr/local/lib/python3.10/dist-packages (from jinja2->torch>=1.7->RealESRGAN==1.0) (2.1.5)\n",
            "Requirement already satisfied: charset-normalizer<4,>=2 in /usr/local/lib/python3.10/dist-packages (from requests->huggingface-hub->RealESRGAN==1.0) (3.3.2)\n",
            "Requirement already satisfied: idna<4,>=2.5 in /usr/local/lib/python3.10/dist-packages (from requests->huggingface-hub->RealESRGAN==1.0) (3.6)\n",
            "Requirement already satisfied: urllib3<3,>=1.21.1 in /usr/local/lib/python3.10/dist-packages (from requests->huggingface-hub->RealESRGAN==1.0) (2.0.7)\n",
            "Requirement already satisfied: certifi>=2017.4.17 in /usr/local/lib/python3.10/dist-packages (from requests->huggingface-hub->RealESRGAN==1.0) (2024.2.2)\n",
            "Requirement already satisfied: mpmath>=0.19 in /usr/local/lib/python3.10/dist-packages (from sympy->torch>=1.7->RealESRGAN==1.0) (1.3.0)\n"
          ]
        }
      ]
    },
    {
      "cell_type": "markdown",
      "source": [
        "# Upscale images"
      ],
      "metadata": {
        "id": "LrxK5SPKsS38"
      }
    },
    {
      "cell_type": "code",
      "source": [
        "from RealESRGAN import RealESRGAN\n",
        "from PIL import Image\n",
        "import numpy as np\n",
        "import torch\n",
        "\n",
        "device = torch.device('cuda' if torch.cuda.is_available() else 'cpu')\n",
        "print('device:', device)\n",
        "\n",
        "model_scale = \"4\"\n",
        "\n",
        "model = RealESRGAN(device, scale=int(model_scale))\n",
        "model.load_weights(f'weights/RealESRGAN_x{model_scale}.pth')"
      ],
      "metadata": {
        "id": "PQyuoWgZseHG",
        "colab": {
          "base_uri": "https://localhost:8080/"
        },
        "outputId": "e19fc931-b94e-4a14-f600-251d37db62a1"
      },
      "execution_count": 38,
      "outputs": [
        {
          "output_type": "stream",
          "name": "stdout",
          "text": [
            "device: cpu\n"
          ]
        }
      ]
    },
    {
      "cell_type": "code",
      "metadata": {
        "id": "oNUtiddJvJK6",
        "colab": {
          "base_uri": "https://localhost:8080/"
        },
        "outputId": "630d699b-3b24-4a91-8779-426e554bce52"
      },
      "source": [
        "import os\n",
        "from google.colab import files\n",
        "import shutil\n",
        "from io import BytesIO\n",
        "import io\n",
        "import tarfile\n",
        "\n",
        "upload_folder = 'inputs'\n",
        "result_folder = 'results'\n",
        "\n",
        "os.makedirs(upload_folder, exist_ok=True)\n",
        "os.makedirs(result_folder, exist_ok=True)\n",
        "\n",
        "IMAGE_FORMATS = ('.png', '.jpg', '.jpeg', '.tiff', '.bmp', '.gif')\n",
        "\n",
        "def image_to_tar_format(img, image_name):\n",
        "    buff = BytesIO()\n",
        "    if '.png' in image_name.lower():\n",
        "        img = img.convert('RGBA')\n",
        "        img.save(buff, format='PNG')\n",
        "    else:\n",
        "        img.save(buff, format='JPEG')\n",
        "    buff.seek(0)\n",
        "    fp = io.BufferedReader(buff)\n",
        "    img_tar_info = tarfile.TarInfo(name=image_name)\n",
        "    img_tar_info.size = len(buff.getvalue())\n",
        "    return img_tar_info, fp\n",
        "\n",
        "def process_tar(path_to_tar):\n",
        "    processing_tar = tarfile.open(path_to_tar, mode='r')\n",
        "    result_tar_path = os.path.join('results/', os.path.basename(path_to_tar))\n",
        "    save_tar = tarfile.open(result_tar_path, 'w')\n",
        "\n",
        "    for c, member in enumerate(processing_tar):\n",
        "        print(f'{c}, processing {member.name}')\n",
        "\n",
        "        if not member.name.endswith(IMAGE_FORMATS):\n",
        "            continue\n",
        "\n",
        "        try:\n",
        "            img_bytes = BytesIO(processing_tar.extractfile(member.name).read())\n",
        "            img_lr = Image.open(img_bytes, mode='r').convert('RGB')\n",
        "        except Exception as err:\n",
        "            print(f'Unable to open file {member.name}, skipping')\n",
        "            continue\n",
        "\n",
        "        img_sr = model.predict(np.array(img_lr))\n",
        "        # adding to save_tar\n",
        "        img_tar_info, fp = image_to_tar_format(img_sr, member.name)\n",
        "        save_tar.addfile(img_tar_info, fp)\n",
        "\n",
        "    processing_tar.close()\n",
        "    save_tar.close()\n",
        "    print(f'Finished! Archive saved to {result_tar_path}')\n",
        "\n",
        "def process_input(filename):\n",
        "    if tarfile.is_tarfile(filename):\n",
        "        process_tar(filename)\n",
        "    else:\n",
        "        result_image_path = os.path.join('results/', os.path.basename(filename))\n",
        "        image = Image.open(filename).convert('RGB')\n",
        "        sr_image = model.predict(np.array(image))\n",
        "        sr_image.save(result_image_path)\n",
        "        print(f'Finished! Image saved to {result_image_path}')\n",
        "\n",
        "#process_input(\"/content/low_resimg.png\")"
      ],
      "execution_count": 39,
      "outputs": [
        {
          "output_type": "stream",
          "name": "stdout",
          "text": [
            "Finished! Image saved to results/low_resimg.png\n"
          ]
        }
      ]
    },
    {
      "cell_type": "markdown",
      "source": [
        "## Provide video path to convert to HD"
      ],
      "metadata": {
        "id": "UevkCkcCiQLG"
      }
    },
    {
      "cell_type": "code",
      "source": [
        "video_path = input(\"Provide input video_path \")"
      ],
      "metadata": {
        "id": "QJEr2_cKhp1h",
        "outputId": "88734db1-b087-4358-86fb-e0639695d6ae",
        "colab": {
          "base_uri": "https://localhost:8080/"
        }
      },
      "execution_count": 40,
      "outputs": [
        {
          "name": "stdout",
          "output_type": "stream",
          "text": [
            "Provide input video_path/content/output_video_cropped.mp4\n"
          ]
        }
      ]
    },
    {
      "cell_type": "markdown",
      "source": [
        "## Convert to frames\n",
        " The below code converts the video into frames and saves them in \"ouptut_frames\" dir"
      ],
      "metadata": {
        "id": "r_7PjyaYh-1R"
      }
    },
    {
      "cell_type": "code",
      "source": [
        "import cv2\n",
        "import os\n",
        "\n",
        "def convert_to_frames(video_path, output_dir):\n",
        "    if not os.path.exists(output_dir):\n",
        "        os.makedirs(output_dir)\n",
        "\n",
        "    cap = cv2.VideoCapture(video_path)\n",
        "    if not cap.isOpened():\n",
        "        print(\"Error: Couldn't open the video file\")\n",
        "        return\n",
        "\n",
        "    ret, frame = cap.read()\n",
        "    frame_count = 0\n",
        "\n",
        "    while ret:\n",
        "        frame_name = f\"{frame_count}.jpg\"\n",
        "        frame_path = os.path.join(output_dir, frame_name)\n",
        "        cv2.imwrite(frame_path, frame)\n",
        "\n",
        "        ret, frame = cap.read()\n",
        "        frame_count += 1\n",
        "\n",
        "    cap.release()\n",
        "\n",
        "    print(f\"Frames saved to {output_dir}\")\n",
        "\n",
        "output_dir = \"output_frames\"\n",
        "os.makedirs(\"output_frames\", exist_ok=True)\n",
        "convert_to_frames(video_path, output_dir)"
      ],
      "metadata": {
        "colab": {
          "base_uri": "https://localhost:8080/"
        },
        "id": "DSrLEz2PG4pe",
        "outputId": "f54f0893-55fa-4dd6-9d32-679bef0dd137"
      },
      "execution_count": 43,
      "outputs": [
        {
          "output_type": "stream",
          "name": "stdout",
          "text": [
            "Frames saved to output_frames\n"
          ]
        }
      ]
    },
    {
      "cell_type": "markdown",
      "source": [
        "The below code sorts the filenames in frame order"
      ],
      "metadata": {
        "id": "YNhfi0ueiaNc"
      }
    },
    {
      "cell_type": "code",
      "source": [
        "def give_sorted_names(dirname):\n",
        "  frames_list = os.listdir(dirname)\n",
        "  if \".ipynb_checkpoints\" in frames_list:\n",
        "    frames_list.remove(\".ipynb_checkpoints\")\n",
        "  #print(frames_list)\n",
        "  sorted_list = sorted(frames_list, key=lambda x: int(x.split('.')[0]))\n",
        "  return sorted_list"
      ],
      "metadata": {
        "id": "EeobiueMOo5r"
      },
      "execution_count": 44,
      "outputs": []
    },
    {
      "cell_type": "code",
      "source": [
        "sorted_frames = give_sorted_names(\"output_frames\")\n",
        "print(sorted_frames)"
      ],
      "metadata": {
        "colab": {
          "base_uri": "https://localhost:8080/"
        },
        "id": "_42iQhb6Pn4h",
        "outputId": "280d4d6c-2455-49c1-beef-ac1d3b1e0cf1"
      },
      "execution_count": 45,
      "outputs": [
        {
          "output_type": "stream",
          "name": "stdout",
          "text": [
            "['263.jpg', '240.jpg', '81.jpg', '1.jpg', '159.jpg', '174.jpg', '293.jpg', '5.jpg', '72.jpg', '258.jpg', '136.jpg', '94.jpg', '12.jpg', '243.jpg', '74.jpg', '252.jpg', '23.jpg', '244.jpg', '27.jpg', '182.jpg', '145.jpg', '116.jpg', '130.jpg', '247.jpg', '112.jpg', '76.jpg', '175.jpg', '192.jpg', '55.jpg', '292.jpg', '4.jpg', '133.jpg', '184.jpg', '108.jpg', '199.jpg', '79.jpg', '26.jpg', '49.jpg', '267.jpg', '157.jpg', '127.jpg', '31.jpg', '190.jpg', '95.jpg', '40.jpg', '132.jpg', '270.jpg', '152.jpg', '197.jpg', '38.jpg', '115.jpg', '135.jpg', '56.jpg', '210.jpg', '194.jpg', '167.jpg', '275.jpg', '0.jpg', '249.jpg', '111.jpg', '229.jpg', '110.jpg', '183.jpg', '142.jpg', '278.jpg', '266.jpg', '180.jpg', '212.jpg', '140.jpg', '211.jpg', '25.jpg', '268.jpg', '204.jpg', '271.jpg', '85.jpg', '179.jpg', '234.jpg', '117.jpg', '2.jpg', '93.jpg', '235.jpg', '52.jpg', '101.jpg', '131.jpg', '62.jpg', '32.jpg', '239.jpg', '14.jpg', '230.jpg', '201.jpg', '162.jpg', '198.jpg', '10.jpg', '147.jpg', '284.jpg', '280.jpg', '13.jpg', '225.jpg', '177.jpg', '146.jpg', '91.jpg', '36.jpg', '16.jpg', '84.jpg', '121.jpg', '83.jpg', '260.jpg', '178.jpg', '109.jpg', '158.jpg', '227.jpg', '163.jpg', '195.jpg', '238.jpg', '77.jpg', '58.jpg', '288.jpg', '165.jpg', '28.jpg', '261.jpg', '6.jpg', '33.jpg', '128.jpg', '155.jpg', '169.jpg', '290.jpg', '196.jpg', '75.jpg', '107.jpg', '11.jpg', '189.jpg', '50.jpg', '250.jpg', '170.jpg', '80.jpg', '287.jpg', '223.jpg', '231.jpg', '254.jpg', '166.jpg', '164.jpg', '200.jpg', '208.jpg', '86.jpg', '70.jpg', '92.jpg', '144.jpg', '78.jpg', '245.jpg', '276.jpg', '286.jpg', '172.jpg', '185.jpg', '19.jpg', '15.jpg', '215.jpg', '41.jpg', '294.jpg', '20.jpg', '120.jpg', '236.jpg', '237.jpg', '232.jpg', '42.jpg', '105.jpg', '67.jpg', '88.jpg', '160.jpg', '285.jpg', '228.jpg', '207.jpg', '218.jpg', '272.jpg', '29.jpg', '256.jpg', '191.jpg', '186.jpg', '156.jpg', '209.jpg', '217.jpg', '219.jpg', '259.jpg', '114.jpg', '96.jpg', '60.jpg', '54.jpg', '241.jpg', '289.jpg', '193.jpg', '283.jpg', '176.jpg', '273.jpg', '113.jpg', '106.jpg', '82.jpg', '150.jpg', '220.jpg', '119.jpg', '248.jpg', '134.jpg', '37.jpg', '35.jpg', '87.jpg', '214.jpg', '277.jpg', '148.jpg', '8.jpg', '216.jpg', '17.jpg', '257.jpg', '154.jpg', '57.jpg', '64.jpg', '141.jpg', '66.jpg', '181.jpg', '48.jpg', '206.jpg', '188.jpg', '45.jpg', '97.jpg', '143.jpg', '151.jpg', '205.jpg', '89.jpg', '98.jpg', '118.jpg', '99.jpg', '7.jpg', '102.jpg', '39.jpg', '269.jpg', '126.jpg', '139.jpg', '149.jpg', '90.jpg', '24.jpg', '222.jpg', '9.jpg', '233.jpg', '43.jpg', '65.jpg', '103.jpg', '221.jpg', '226.jpg', '203.jpg', '255.jpg', '59.jpg', '125.jpg', '69.jpg', '47.jpg', '251.jpg', '282.jpg', '73.jpg', '224.jpg', '153.jpg', '173.jpg', '44.jpg', '291.jpg', '63.jpg', '281.jpg', '61.jpg', '171.jpg', '264.jpg', '18.jpg', '137.jpg', '242.jpg', '34.jpg', '123.jpg', '168.jpg', '253.jpg', '71.jpg', '246.jpg', '265.jpg', '51.jpg', '68.jpg', '46.jpg', '161.jpg', '187.jpg', '202.jpg', '100.jpg', '30.jpg', '138.jpg', '122.jpg', '262.jpg', '104.jpg', '213.jpg', '129.jpg', '21.jpg', '124.jpg', '279.jpg', '274.jpg', '53.jpg', '3.jpg', '22.jpg']\n",
            "['0.jpg', '1.jpg', '2.jpg', '3.jpg', '4.jpg', '5.jpg', '6.jpg', '7.jpg', '8.jpg', '9.jpg', '10.jpg', '11.jpg', '12.jpg', '13.jpg', '14.jpg', '15.jpg', '16.jpg', '17.jpg', '18.jpg', '19.jpg', '20.jpg', '21.jpg', '22.jpg', '23.jpg', '24.jpg', '25.jpg', '26.jpg', '27.jpg', '28.jpg', '29.jpg', '30.jpg', '31.jpg', '32.jpg', '33.jpg', '34.jpg', '35.jpg', '36.jpg', '37.jpg', '38.jpg', '39.jpg', '40.jpg', '41.jpg', '42.jpg', '43.jpg', '44.jpg', '45.jpg', '46.jpg', '47.jpg', '48.jpg', '49.jpg', '50.jpg', '51.jpg', '52.jpg', '53.jpg', '54.jpg', '55.jpg', '56.jpg', '57.jpg', '58.jpg', '59.jpg', '60.jpg', '61.jpg', '62.jpg', '63.jpg', '64.jpg', '65.jpg', '66.jpg', '67.jpg', '68.jpg', '69.jpg', '70.jpg', '71.jpg', '72.jpg', '73.jpg', '74.jpg', '75.jpg', '76.jpg', '77.jpg', '78.jpg', '79.jpg', '80.jpg', '81.jpg', '82.jpg', '83.jpg', '84.jpg', '85.jpg', '86.jpg', '87.jpg', '88.jpg', '89.jpg', '90.jpg', '91.jpg', '92.jpg', '93.jpg', '94.jpg', '95.jpg', '96.jpg', '97.jpg', '98.jpg', '99.jpg', '100.jpg', '101.jpg', '102.jpg', '103.jpg', '104.jpg', '105.jpg', '106.jpg', '107.jpg', '108.jpg', '109.jpg', '110.jpg', '111.jpg', '112.jpg', '113.jpg', '114.jpg', '115.jpg', '116.jpg', '117.jpg', '118.jpg', '119.jpg', '120.jpg', '121.jpg', '122.jpg', '123.jpg', '124.jpg', '125.jpg', '126.jpg', '127.jpg', '128.jpg', '129.jpg', '130.jpg', '131.jpg', '132.jpg', '133.jpg', '134.jpg', '135.jpg', '136.jpg', '137.jpg', '138.jpg', '139.jpg', '140.jpg', '141.jpg', '142.jpg', '143.jpg', '144.jpg', '145.jpg', '146.jpg', '147.jpg', '148.jpg', '149.jpg', '150.jpg', '151.jpg', '152.jpg', '153.jpg', '154.jpg', '155.jpg', '156.jpg', '157.jpg', '158.jpg', '159.jpg', '160.jpg', '161.jpg', '162.jpg', '163.jpg', '164.jpg', '165.jpg', '166.jpg', '167.jpg', '168.jpg', '169.jpg', '170.jpg', '171.jpg', '172.jpg', '173.jpg', '174.jpg', '175.jpg', '176.jpg', '177.jpg', '178.jpg', '179.jpg', '180.jpg', '181.jpg', '182.jpg', '183.jpg', '184.jpg', '185.jpg', '186.jpg', '187.jpg', '188.jpg', '189.jpg', '190.jpg', '191.jpg', '192.jpg', '193.jpg', '194.jpg', '195.jpg', '196.jpg', '197.jpg', '198.jpg', '199.jpg', '200.jpg', '201.jpg', '202.jpg', '203.jpg', '204.jpg', '205.jpg', '206.jpg', '207.jpg', '208.jpg', '209.jpg', '210.jpg', '211.jpg', '212.jpg', '213.jpg', '214.jpg', '215.jpg', '216.jpg', '217.jpg', '218.jpg', '219.jpg', '220.jpg', '221.jpg', '222.jpg', '223.jpg', '224.jpg', '225.jpg', '226.jpg', '227.jpg', '228.jpg', '229.jpg', '230.jpg', '231.jpg', '232.jpg', '233.jpg', '234.jpg', '235.jpg', '236.jpg', '237.jpg', '238.jpg', '239.jpg', '240.jpg', '241.jpg', '242.jpg', '243.jpg', '244.jpg', '245.jpg', '246.jpg', '247.jpg', '248.jpg', '249.jpg', '250.jpg', '251.jpg', '252.jpg', '253.jpg', '254.jpg', '255.jpg', '256.jpg', '257.jpg', '258.jpg', '259.jpg', '260.jpg', '261.jpg', '262.jpg', '263.jpg', '264.jpg', '265.jpg', '266.jpg', '267.jpg', '268.jpg', '269.jpg', '270.jpg', '271.jpg', '272.jpg', '273.jpg', '274.jpg', '275.jpg', '276.jpg', '277.jpg', '278.jpg', '279.jpg', '280.jpg', '281.jpg', '282.jpg', '283.jpg', '284.jpg', '285.jpg', '286.jpg', '287.jpg', '288.jpg', '289.jpg', '290.jpg', '291.jpg', '292.jpg', '293.jpg', '294.jpg']\n"
          ]
        }
      ]
    },
    {
      "cell_type": "markdown",
      "source": [
        "## Looping through the list and upscaling every image"
      ],
      "metadata": {
        "id": "hOhYW4Usjoq-"
      }
    },
    {
      "cell_type": "code",
      "source": [
        "for name in sorted_list:\n",
        "  process_input(os.path.join(\"output_frames\", name))"
      ],
      "metadata": {
        "id": "VgudaxseMeYI"
      },
      "execution_count": null,
      "outputs": []
    },
    {
      "cell_type": "markdown",
      "source": [
        "## Makes a list of HD frames to merge them"
      ],
      "metadata": {
        "id": "BWXYRRjyj0Hx"
      }
    },
    {
      "cell_type": "code",
      "source": [
        "list_to_make_video = give_sorted_names(\"results\")\n",
        "print(list_to_make_video)"
      ],
      "metadata": {
        "colab": {
          "base_uri": "https://localhost:8080/"
        },
        "id": "DM7jYIi_OmBT",
        "outputId": "a21be5df-7571-433f-bdf0-f1c93867ce31"
      },
      "execution_count": 32,
      "outputs": [
        {
          "output_type": "stream",
          "name": "stdout",
          "text": [
            "['1.jpg', '5.jpg', '4.jpg', '0.jpg', '2.jpg', '3.jpg']\n",
            "['0.jpg', '1.jpg', '2.jpg', '3.jpg', '4.jpg', '5.jpg']\n"
          ]
        }
      ]
    },
    {
      "cell_type": "markdown",
      "source": [
        "## Merges all the frames in order to make output_video.mp4"
      ],
      "metadata": {
        "id": "2cWKvnUJkFZr"
      }
    },
    {
      "cell_type": "code",
      "source": [
        "import cv2\n",
        "import os\n",
        "\n",
        "def images_to_video(image_folder, image_list, output_video):\n",
        "    images = [os.path.join(image_folder, img) for img in image_list]\n",
        "    image_path = images[0]\n",
        "    frame = cv2.imread(image_path)\n",
        "    height, width, layers = frame.shape\n",
        "\n",
        "    fourcc = cv2.VideoWriter_fourcc(*'mp4v')\n",
        "    video = cv2.VideoWriter(output_video, fourcc, 1, (width,height))\n",
        "\n",
        "    for image in images:\n",
        "        video.write(cv2.imread(image))\n",
        "\n",
        "    cv2.destroyAllWindows()\n",
        "    video.release()\n",
        "\n",
        "\n",
        "output_video = 'output_video.mp4'\n",
        "images_to_video(\"results\", list_to_make_video, output_video)\n"
      ],
      "metadata": {
        "id": "sloQ9UVdPjHw"
      },
      "execution_count": 33,
      "outputs": []
    },
    {
      "cell_type": "code",
      "source": [],
      "metadata": {
        "id": "W-p8lneTjMeY"
      },
      "execution_count": null,
      "outputs": []
    }
  ]
}